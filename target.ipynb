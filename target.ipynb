{
 "cells": [
  {
   "cell_type": "code",
   "execution_count": 1,
   "metadata": {},
   "outputs": [
    {
     "name": "stdout",
     "output_type": "stream",
     "text": [
      "Notebook initialized with png backend.\n"
     ]
    }
   ],
   "source": [
    "import numpy as np\n",
    "from time import perf_counter\n",
    "from functools import lru_cache\n",
    "from scipy.integrate import solve_ivp\n",
    "import scipy.optimize as optimize\n",
    "\n",
    "from mayavi import mlab\n",
    "mlab.init_notebook(backend='png')\n",
    "import mlabtools\n",
    "\n",
    "from CR3BP.CR3BP import dS_CR3BP, dSTM_CR3BP\n",
    "import constants as C"
   ]
  },
  {
   "cell_type": "code",
   "execution_count": 2,
   "metadata": {},
   "outputs": [],
   "source": [
    "# initial orbit state [x, y, z, vx, vy, vz]\n",
    "S_init = np.array([-0.023, -0.015, 0, 5.878, -4.409, 0])\n",
    "\n",
    "# target position [x, y, z]\n",
    "r_target = np.array([1.1, 0.036, 0.02])\n",
    "\n",
    "# initial guess\n",
    "X_0 = np.array([8, -6, 1, 0.2])"
   ]
  },
  {
   "cell_type": "code",
   "execution_count": 3,
   "metadata": {},
   "outputs": [],
   "source": [
    "# The variable X of the objective function constists of\n",
    "# X = [v_x, v_y, v_z, time of flight]\n",
    "\n",
    "@lru_cache(maxsize=2, typed=True)\n",
    "def solve_initial(X):\n",
    "    \"\"\"Solve the IVP given the objective function tuple X.\"\"\"\n",
    "    S_0 = np.zeros(6 + 6*3)\n",
    "    S_0[:3] = S_init[:3]\n",
    "    S_0[3:6] = X[:3]\n",
    "    S_0[6 + 3*3::4] = 1\n",
    "\n",
    "    TOF = X[-1]  # Time of flight\n",
    "\n",
    "    sol = solve_ivp(\n",
    "        dSTM_CR3BP,\n",
    "        (0, TOF),\n",
    "        S_0,\n",
    "        method='DOP853',\n",
    "        t_eval=(TOF,),\n",
    "        args=(C.mu,),\n",
    "        rtol=1e-10,\n",
    "        atol=1e-12)\n",
    "\n",
    "    S_f = sol.y[:6, 0]\n",
    "    STM = sol.y[6:].reshape(6, 3)\n",
    "    return S_f, STM"
   ]
  },
  {
   "cell_type": "code",
   "execution_count": 4,
   "metadata": {},
   "outputs": [],
   "source": [
    "def fun(X):\n",
    "    \"\"\"Objective function: square delta-v.\"\"\"\n",
    "    dv = X[:3] - S_init[3:]\n",
    "    return np.dot(dv, dv), np.hstack([2 * dv, 0])\n",
    "\n",
    "def pos_f(X):\n",
    "    \"\"\"Final position of initial variable X.\"\"\"\n",
    "    S_f = solve_initial(tuple(X))[0]\n",
    "    return S_f[:3]\n",
    "\n",
    "def pos_f_jac(X):\n",
    "    \"\"\"Jacobian of pos_f.\"\"\"\n",
    "    S_f, STM = solve_initial(tuple(X))\n",
    "    return np.column_stack([STM[:3], S_f[3:]])\n",
    "\n",
    "con = optimize.NonlinearConstraint(pos_f, r_target, r_target, jac=pos_f_jac)"
   ]
  },
  {
   "cell_type": "code",
   "execution_count": 5,
   "metadata": {
    "tags": []
   },
   "outputs": [
    {
     "name": "stdout",
     "output_type": "stream",
     "text": [
      "it 19 | const viol = 2.6645e-15 | delta-v = 3.0097\n",
      "time: 214.629 ms\n"
     ]
    }
   ],
   "source": [
    "start = perf_counter()\n",
    "\n",
    "solve_initial.cache_clear()\n",
    "mini = optimize.minimize(\n",
    "    fun,\n",
    "    X_0,\n",
    "    jac=True,\n",
    "    method='trust-constr',\n",
    "    options={'initial_constr_penalty': 1, 'xtol': 1e-12},\n",
    "    constraints=con,\n",
    "    callback=lambda x,s: print(f'it {s.nit:<2} | const viol = {s.constr_violation:10.4e} | delta-v = {np.sqrt(s.fun):.4f}', end='\\r')\n",
    ")\n",
    "\n",
    "duration = perf_counter() - start\n",
    "print(f'\\ntime: {duration * 1000:.3f} ms')"
   ]
  },
  {
   "cell_type": "code",
   "execution_count": 6,
   "metadata": {},
   "outputs": [],
   "source": [
    "# guess initial state\n",
    "S_guess = np.empty(7) \n",
    "S_guess[:3] = S_init[:3]\n",
    "S_guess[3:6] = X_0[:3]\n",
    "S_guess[6] = X_0[3]\n",
    "\n",
    "sol_guess = solve_ivp(\n",
    "    dS_CR3BP,\n",
    "    (0, S_guess[-1]),\n",
    "    S_guess[:6],\n",
    "    method='DOP853',\n",
    "    args=(C.mu,),\n",
    "    rtol=1e-10,\n",
    "    atol=1e-12)\n",
    "\n",
    "# optimal initial state\n",
    "S_opt = np.empty(7) \n",
    "S_opt[:3] = S_init[:3]\n",
    "S_opt[3:6] = mini.x[:3]\n",
    "S_opt[6] = mini.x[3]\n",
    "\n",
    "sol_opt = solve_ivp(\n",
    "    dS_CR3BP,\n",
    "    (0, S_opt[-1]),\n",
    "    S_opt[:6],\n",
    "    method='DOP853',\n",
    "    args=(C.mu,),\n",
    "    rtol=1e-10,\n",
    "    atol=1e-12)"
   ]
  },
  {
   "cell_type": "code",
   "execution_count": 7,
   "metadata": {},
   "outputs": [
    {
     "data": {
      "text/html": [
       "<img src=\"data:image/png;base64,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\" alt=\"PNG image\"></img>"
      ],
      "text/plain": [
       "<IPython.core.display.HTML object>"
      ]
     },
     "metadata": {},
     "output_type": "display_data"
    }
   ],
   "source": [
    "mlab.figure(size=(800, 400), bgcolor=(0,0,0))\n",
    "\n",
    "mlabtools.lock_upaxis()\n",
    "\n",
    "# Earth and Moon\n",
    "mlab.points3d(-C.mu, 0, 0, scale_factor=2*6378 / C.l_star, resolution=16, color=(0.2,0.2,0.9))\n",
    "mlab.points3d(1-C.mu, 0, 0, scale_factor=2*3000 / C.l_star, resolution=16, color=(0.4,0.4,0.4))\n",
    "\n",
    "# Start and end points\n",
    "c = mlabtools.surface(*np.vstack([r_target, S_init[:3]]).T,\n",
    "                      color=(1, 0.1, 0.1), representation='points')\n",
    "c.actor.property.trait_set(render_points_as_spheres=True, point_size=10)\n",
    "\n",
    "# Plot each trajectory\n",
    "for y, color in zip((sol_opt.y[:3], sol_guess.y[:3]),\n",
    "                    (3 * (1,), 3 * (0.5,))):\n",
    "    mlabtools.curves(y, color=color, line_width=1)\n",
    "\n",
    "    # Plot height lines\n",
    "    yh = np.zeros((y.shape[1], 3, 2))\n",
    "    yh[:, :, 1] = y.T\n",
    "    yh[:, :2, 0] = y.T[:, :2]\n",
    "    mlabtools.curves(yh, color=color, line_width=1)\n",
    "\n",
    "text = [\n",
    "    (sol_guess.y[:3, -1] + (0, 0, 0.02), \"Guess\"),\n",
    "    (sol_opt.y[:3, int(0.7 * sol_opt.y.shape[1])] + (0, 0, 0.04), \"Optimal\"),\n",
    "    (S_init[:3] + (-0.03, 0, -0.05), \"Start\"),\n",
    "    (r_target + (-0.06, 0, 0.04), \"Target\")\n",
    "]\n",
    "for pos, s in text:\n",
    "    mlab.text(*pos[:2], s, z=pos[2], width=0.01 * len(s))\n",
    "\n",
    "mlab.view(focalpoint=(0.4 - C.mu, 0, 0), distance=1,\n",
    "          azimuth=-120, elevation=70)\n",
    "\n",
    "mlab.gcf()"
   ]
  }
 ],
 "metadata": {
  "interpreter": {
   "hash": "ac59ebe37160ed0dfa835113d9b8498d9f09ceb179beaac4002f036b9467c963"
  },
  "kernelspec": {
   "display_name": "Python 3.9.6 64-bit",
   "name": "python3"
  },
  "language_info": {
   "codemirror_mode": {
    "name": "ipython",
    "version": 3
   },
   "file_extension": ".py",
   "mimetype": "text/x-python",
   "name": "python",
   "nbconvert_exporter": "python",
   "pygments_lexer": "ipython3",
   "version": "3.9.6"
  }
 },
 "nbformat": 4,
 "nbformat_minor": 4
}
